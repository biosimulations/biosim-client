{
 "cells": [
  {
   "cell_type": "code",
   "execution_count": null,
   "id": "7623619843a8392",
   "metadata": {},
   "outputs": [],
   "source": [
    "from biosim_client.verify.biosim_client import BiosimClient\n",
    "from biosim_client.verify.models import DatasetComparison, VerifyResults\n",
    "\n",
    "run_ids = [\"674e9088dc98815570335845\", \"674e597df6b91e483a90c248\", \"674e509df643f14403cb4716\", \"674eae0eca37d49ba02087e6\"]\n",
    "run: VerifyResults = BiosimClient().compare_runs(run_ids=run_ids)"
   ]
  },
  {
   "cell_type": "code",
   "execution_count": null,
   "id": "c7504ee9-1016-42ff-af1d-d4a85ac8cf1b",
   "metadata": {},
   "outputs": [],
   "source": [
    "run.show_report()"
   ]
  },
  {
   "cell_type": "code",
   "execution_count": null,
   "id": "1cec8049-5ca4-4b45-b68c-773cc7fc8a11",
   "metadata": {},
   "outputs": [],
   "source": [
    "run.show_saved_plots(max_columns=4, width_in=10)"
   ]
  },
  {
   "cell_type": "code",
   "execution_count": null,
   "id": "82c8576f-030b-4e31-ba95-7f93cb4a5637",
   "metadata": {},
   "outputs": [],
   "source": [
    "run.show_dataset_heatmaps()"
   ]
  },
  {
   "cell_type": "code",
   "execution_count": null,
   "id": "0a49eee4-78fe-4be9-a8a7-f62072da57f8",
   "metadata": {},
   "outputs": [],
   "source": [
    "simulators = [\"amici:0.18.1\", \"copasi:4.45.296\", \"tellurium:2.2.10\", \"vcell:7.7.0.13\"]\n",
    "omex_file = \"/Users/jimschaff/Documents/workspace/biosim-client/tests/fixtures/data/BIOMD0000000010_tellurium_Negative_feedback_and_ultrasen.omex\"\n",
    "run_2: VerifyResults = BiosimClient().compare_omex(omex_path=omex_file, simulators=simulators)\n",
    "run_2.show_report()\n",
    "run_2.show_saved_plots()\n",
    "run_2.show_dataset_heatmaps()"
   ]
  },
  {
   "cell_type": "code",
   "execution_count": null,
   "id": "df7e4b13-9035-4c97-9bc9-8a47c426bbcd",
   "metadata": {},
   "outputs": [],
   "source": []
  }
 ],
 "metadata": {
  "kernelspec": {
   "display_name": "Python 3 (ipykernel)",
   "language": "python",
   "name": "python3"
  },
  "language_info": {
   "codemirror_mode": {
    "name": "ipython",
    "version": 3
   },
   "file_extension": ".py",
   "mimetype": "text/x-python",
   "name": "python",
   "nbconvert_exporter": "python",
   "pygments_lexer": "ipython3",
   "version": "3.13.1"
  }
 },
 "nbformat": 4,
 "nbformat_minor": 5
}
